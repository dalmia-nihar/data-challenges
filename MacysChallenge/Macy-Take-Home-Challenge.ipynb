{
 "cells": [
  {
   "attachments": {},
   "cell_type": "markdown",
   "metadata": {},
   "source": [
    "# Macy's Data Challenge - Nihar Dalmia \n",
    "#### INSTRUCTIONS: \n",
    "\n",
    "There are two sets of data in this spreadsheet.   Please evaluate both sets of data and note your observations in the text box below.  Please keep all scratch work in place so that we can understand your work process. \n",
    "\n",
    "Feel free to use any outside resources you feel are necessary, but be sure to include them in your notes for reference. Please only spend about 1-2 hours max.\n",
    "\n",
    "Data Set One: The first data set represents visitors and orders on a day where the Macys.com free shipping threshold was set at \\$99.  On this day, all orders above $99 received free shipping.  \n",
    "\n",
    "Data Set Two:  The second data set represents visitors and orders on a day where Macys.com offered free shipping on all orders .  On this day,  every customer received free shipping regardless of the value of their order. \n",
    "\n",
    "Visitor ID:  Represents a unique visitor to our website.   When a customer comes to www.macys.com, that customer is given a unique Visitor ID. There are no duplicates as each Visitor ID represents a different individual coming to the site.  \n",
    "\n",
    "Order Value:   The dollar value of the order placed by a particular customer (Visitor ID).   If the order value is blank this means that no order was placed by that visitor."
   ]
  },
  {
   "cell_type": "markdown",
   "metadata": {},
   "source": [
    "### 0. Importing relavant libraries "
   ]
  },
  {
   "cell_type": "code",
   "execution_count": 296,
   "metadata": {},
   "outputs": [],
   "source": [
    "import numpy as np\n",
    "import pandas as pd \n",
    "from scipy import stats\n",
    "import seaborn as sns\n",
    "import matplotlib.pyplot as plt\n",
    "\n",
    "from scipy.stats import shapiro\n",
    "from scipy.stats import levene\n",
    "from scipy.stats import ttest_ind\n",
    "from scipy.stats import chi2_contingency\n",
    "from scipy.stats import mannwhitneyu\n",
    "\n",
    "import warnings\n",
    "warnings.simplefilter('ignore')"
   ]
  },
  {
   "cell_type": "code",
   "execution_count": null,
   "metadata": {},
   "outputs": [],
   "source": []
  },
  {
   "cell_type": "markdown",
   "metadata": {},
   "source": [
    "### 1. Reading the data"
   ]
  },
  {
   "cell_type": "markdown",
   "metadata": {},
   "source": [
    "#### 1.1. Reading Data Set 1- \\$99 Ship Threshold"
   ]
  },
  {
   "cell_type": "code",
   "execution_count": 281,
   "metadata": {},
   "outputs": [
    {
     "name": "stdout",
     "output_type": "stream",
     "text": [
      "Shape of the dataset 1 = (4924, 4)\n"
     ]
    }
   ],
   "source": [
    "df_99 = pd.read_excel('Case Study_Analytics and Tech Finance - Nihar.xlsx', sheet_name = 1)\n",
    "\n",
    "\n",
    "# Renaming the columns \n",
    "df_99.rename(columns={\n",
    "    'Visitor ID ':'visitorId',\n",
    "    'Order Value ': 'orderValue'\n",
    "}, inplace=True)\n",
    "\n",
    "\n",
    "# Adding another column which represents whether a visitor ordered something or not. \n",
    "df_99['ordered_bin'] = df_99['orderValue'].apply(lambda x: 1 if pd.notnull(x) else 0)\n",
    "\n",
    "\n",
    "# Adding another column that represents the actual amount spent by the customer. \n",
    "# This will be 0 if the customer did not order anything, else it will be equal to orderValue.\n",
    "df_99['amount_spent'] = df_99['orderValue'].apply(lambda x: x if pd.notnull(x) else 0)\n",
    "\n",
    "\n",
    "# Printing the shape of the data: \n",
    "print('Shape of the dataset 1 = {}'.format(df_99.shape))"
   ]
  },
  {
   "cell_type": "markdown",
   "metadata": {},
   "source": [
    "Making sure that we have the correct datatypes for each column"
   ]
  },
  {
   "cell_type": "code",
   "execution_count": 282,
   "metadata": {
    "scrolled": true
   },
   "outputs": [
    {
     "data": {
      "text/plain": [
       "visitorId         int64\n",
       "orderValue      float64\n",
       "ordered_bin       int64\n",
       "amount_spent    float64\n",
       "dtype: object"
      ]
     },
     "execution_count": 282,
     "metadata": {},
     "output_type": "execute_result"
    }
   ],
   "source": [
    "df_99.dtypes"
   ]
  },
  {
   "cell_type": "code",
   "execution_count": 290,
   "metadata": {},
   "outputs": [
    {
     "data": {
      "text/html": [
       "<div>\n",
       "<style scoped>\n",
       "    .dataframe tbody tr th:only-of-type {\n",
       "        vertical-align: middle;\n",
       "    }\n",
       "\n",
       "    .dataframe tbody tr th {\n",
       "        vertical-align: top;\n",
       "    }\n",
       "\n",
       "    .dataframe thead th {\n",
       "        text-align: right;\n",
       "    }\n",
       "</style>\n",
       "<table border=\"1\" class=\"dataframe\">\n",
       "  <thead>\n",
       "    <tr style=\"text-align: right;\">\n",
       "      <th></th>\n",
       "      <th>visitorId</th>\n",
       "      <th>orderValue</th>\n",
       "      <th>ordered_bin</th>\n",
       "      <th>amount_spent</th>\n",
       "    </tr>\n",
       "  </thead>\n",
       "  <tbody>\n",
       "    <tr>\n",
       "      <td>2252</td>\n",
       "      <td>284862</td>\n",
       "      <td>NaN</td>\n",
       "      <td>0</td>\n",
       "      <td>0.0</td>\n",
       "    </tr>\n",
       "    <tr>\n",
       "      <td>3558</td>\n",
       "      <td>391196</td>\n",
       "      <td>NaN</td>\n",
       "      <td>0</td>\n",
       "      <td>0.0</td>\n",
       "    </tr>\n",
       "    <tr>\n",
       "      <td>1138</td>\n",
       "      <td>196715</td>\n",
       "      <td>NaN</td>\n",
       "      <td>0</td>\n",
       "      <td>0.0</td>\n",
       "    </tr>\n",
       "    <tr>\n",
       "      <td>4276</td>\n",
       "      <td>448208</td>\n",
       "      <td>NaN</td>\n",
       "      <td>0</td>\n",
       "      <td>0.0</td>\n",
       "    </tr>\n",
       "    <tr>\n",
       "      <td>4171</td>\n",
       "      <td>440141</td>\n",
       "      <td>NaN</td>\n",
       "      <td>0</td>\n",
       "      <td>0.0</td>\n",
       "    </tr>\n",
       "    <tr>\n",
       "      <td>4367</td>\n",
       "      <td>455294</td>\n",
       "      <td>136.0</td>\n",
       "      <td>1</td>\n",
       "      <td>136.0</td>\n",
       "    </tr>\n",
       "    <tr>\n",
       "      <td>1964</td>\n",
       "      <td>261570</td>\n",
       "      <td>NaN</td>\n",
       "      <td>0</td>\n",
       "      <td>0.0</td>\n",
       "    </tr>\n",
       "    <tr>\n",
       "      <td>4427</td>\n",
       "      <td>460811</td>\n",
       "      <td>NaN</td>\n",
       "      <td>0</td>\n",
       "      <td>0.0</td>\n",
       "    </tr>\n",
       "    <tr>\n",
       "      <td>4198</td>\n",
       "      <td>442063</td>\n",
       "      <td>NaN</td>\n",
       "      <td>0</td>\n",
       "      <td>0.0</td>\n",
       "    </tr>\n",
       "    <tr>\n",
       "      <td>2825</td>\n",
       "      <td>333267</td>\n",
       "      <td>NaN</td>\n",
       "      <td>0</td>\n",
       "      <td>0.0</td>\n",
       "    </tr>\n",
       "    <tr>\n",
       "      <td>3758</td>\n",
       "      <td>406994</td>\n",
       "      <td>NaN</td>\n",
       "      <td>0</td>\n",
       "      <td>0.0</td>\n",
       "    </tr>\n",
       "    <tr>\n",
       "      <td>768</td>\n",
       "      <td>163961</td>\n",
       "      <td>NaN</td>\n",
       "      <td>0</td>\n",
       "      <td>0.0</td>\n",
       "    </tr>\n",
       "    <tr>\n",
       "      <td>2753</td>\n",
       "      <td>327423</td>\n",
       "      <td>NaN</td>\n",
       "      <td>0</td>\n",
       "      <td>0.0</td>\n",
       "    </tr>\n",
       "    <tr>\n",
       "      <td>4113</td>\n",
       "      <td>435741</td>\n",
       "      <td>NaN</td>\n",
       "      <td>0</td>\n",
       "      <td>0.0</td>\n",
       "    </tr>\n",
       "    <tr>\n",
       "      <td>3619</td>\n",
       "      <td>395719</td>\n",
       "      <td>30.0</td>\n",
       "      <td>1</td>\n",
       "      <td>30.0</td>\n",
       "    </tr>\n",
       "  </tbody>\n",
       "</table>\n",
       "</div>"
      ],
      "text/plain": [
       "      visitorId  orderValue  ordered_bin  amount_spent\n",
       "2252     284862         NaN            0           0.0\n",
       "3558     391196         NaN            0           0.0\n",
       "1138     196715         NaN            0           0.0\n",
       "4276     448208         NaN            0           0.0\n",
       "4171     440141         NaN            0           0.0\n",
       "4367     455294       136.0            1         136.0\n",
       "1964     261570         NaN            0           0.0\n",
       "4427     460811         NaN            0           0.0\n",
       "4198     442063         NaN            0           0.0\n",
       "2825     333267         NaN            0           0.0\n",
       "3758     406994         NaN            0           0.0\n",
       "768      163961         NaN            0           0.0\n",
       "2753     327423         NaN            0           0.0\n",
       "4113     435741         NaN            0           0.0\n",
       "3619     395719        30.0            1          30.0"
      ]
     },
     "execution_count": 290,
     "metadata": {},
     "output_type": "execute_result"
    }
   ],
   "source": [
    "# Taking a randon sample from the data to see if everything looks good. \n",
    "df_99.sample(15)"
   ]
  },
  {
   "cell_type": "code",
   "execution_count": null,
   "metadata": {},
   "outputs": [],
   "source": []
  },
  {
   "cell_type": "markdown",
   "metadata": {},
   "source": [
    "Creating a second data frame with only the orders that were placed"
   ]
  },
  {
   "cell_type": "code",
   "execution_count": 291,
   "metadata": {},
   "outputs": [
    {
     "name": "stdout",
     "output_type": "stream",
     "text": [
      "Shape of the dataset 1 orders only table = (270, 4)\n"
     ]
    }
   ],
   "source": [
    "df_99_orders = df_99[df_99['ordered_bin'] == 1]\n",
    "print('Shape of the dataset 1 orders only table = {}'.format(df_99_orders.shape))"
   ]
  },
  {
   "cell_type": "code",
   "execution_count": null,
   "metadata": {},
   "outputs": [],
   "source": []
  },
  {
   "cell_type": "code",
   "execution_count": null,
   "metadata": {},
   "outputs": [],
   "source": []
  },
  {
   "cell_type": "markdown",
   "metadata": {},
   "source": [
    "#### 1.2. Reading Data Set 2- Free Ship\n",
    "Repeating same steps as above"
   ]
  },
  {
   "cell_type": "code",
   "execution_count": 292,
   "metadata": {},
   "outputs": [
    {
     "name": "stdout",
     "output_type": "stream",
     "text": [
      "Shape of the dataset 2 = (5018, 4)\n"
     ]
    }
   ],
   "source": [
    "df_free = pd.read_excel('Case Study_Analytics and Tech Finance - Nihar.xlsx', sheet_name = 2)\n",
    "\n",
    "\n",
    "# Renaming the columns \n",
    "df_free.rename(columns={\n",
    "    'Visitor ID ':'visitorId',\n",
    "    'Order Value ': 'orderValue'\n",
    "}, inplace=True)\n",
    "\n",
    "\n",
    "# Adding a column which represents whether a visitor ordered something or not. \n",
    "df_free['ordered_bin'] = df_free['orderValue'].apply(lambda x: 1 if pd.notnull(x) else 0)\n",
    "\n",
    "\n",
    "# Adding another column that represents the actual amount spent by the customer. \n",
    "# This will be 0 if the customer did not order anything, else it will be equal to orderValue.\n",
    "df_free['amount_spent'] = df_free['orderValue'].apply(lambda x: x if pd.notnull(x) else 0)\n",
    "\n",
    "\n",
    "# Printing the shape of the data: \n",
    "print('Shape of the dataset 2 = {}'.format(df_free.shape))"
   ]
  },
  {
   "cell_type": "markdown",
   "metadata": {},
   "source": [
    "Making sure that we have the correct datatypes for each column"
   ]
  },
  {
   "cell_type": "code",
   "execution_count": 293,
   "metadata": {
    "scrolled": true
   },
   "outputs": [
    {
     "data": {
      "text/plain": [
       "Visitor           int64\n",
       "orderValue      float64\n",
       "ordered_bin       int64\n",
       "amount_spent    float64\n",
       "dtype: object"
      ]
     },
     "execution_count": 293,
     "metadata": {},
     "output_type": "execute_result"
    }
   ],
   "source": [
    "df_free.dtypes"
   ]
  },
  {
   "cell_type": "code",
   "execution_count": null,
   "metadata": {},
   "outputs": [],
   "source": []
  },
  {
   "cell_type": "markdown",
   "metadata": {},
   "source": [
    "Creating a second data frame with only the orders that were placed"
   ]
  },
  {
   "cell_type": "code",
   "execution_count": 294,
   "metadata": {},
   "outputs": [
    {
     "name": "stdout",
     "output_type": "stream",
     "text": [
      "Shape of the dataset 2 orders only table = (554, 4)\n"
     ]
    }
   ],
   "source": [
    "df_free_orders = df_free[df_free['ordered_bin'] == 1]\n",
    "print('Shape of the dataset 2 orders only table = {}'.format(df_free_orders.shape))"
   ]
  },
  {
   "cell_type": "markdown",
   "metadata": {},
   "source": [
    "Okay, everything looks good here. Moving on to generating some visualizations and summary statistics "
   ]
  },
  {
   "cell_type": "code",
   "execution_count": null,
   "metadata": {},
   "outputs": [],
   "source": []
  },
  {
   "cell_type": "code",
   "execution_count": null,
   "metadata": {},
   "outputs": [],
   "source": []
  },
  {
   "cell_type": "markdown",
   "metadata": {},
   "source": [
    "### 2. Exploratory Data Analysis"
   ]
  },
  {
   "cell_type": "markdown",
   "metadata": {},
   "source": [
    "#### 2.1. Summary Stats: \n",
    "First running some summary statistics on our two datasets"
   ]
  },
  {
   "cell_type": "code",
   "execution_count": 300,
   "metadata": {},
   "outputs": [
    {
     "data": {
      "text/html": [
       "<div>\n",
       "<style scoped>\n",
       "    .dataframe tbody tr th:only-of-type {\n",
       "        vertical-align: middle;\n",
       "    }\n",
       "\n",
       "    .dataframe tbody tr th {\n",
       "        vertical-align: top;\n",
       "    }\n",
       "\n",
       "    .dataframe thead th {\n",
       "        text-align: right;\n",
       "    }\n",
       "</style>\n",
       "<table border=\"1\" class=\"dataframe\">\n",
       "  <thead>\n",
       "    <tr style=\"text-align: right;\">\n",
       "      <th></th>\n",
       "      <th>orderValue</th>\n",
       "      <th>ordered_bin</th>\n",
       "      <th>amount_spent</th>\n",
       "    </tr>\n",
       "  </thead>\n",
       "  <tbody>\n",
       "    <tr>\n",
       "      <td>count</td>\n",
       "      <td>270.000000</td>\n",
       "      <td>4924.000000</td>\n",
       "      <td>4924.000000</td>\n",
       "    </tr>\n",
       "    <tr>\n",
       "      <td>mean</td>\n",
       "      <td>120.329630</td>\n",
       "      <td>0.054833</td>\n",
       "      <td>6.598091</td>\n",
       "    </tr>\n",
       "    <tr>\n",
       "      <td>std</td>\n",
       "      <td>26.755513</td>\n",
       "      <td>0.227678</td>\n",
       "      <td>28.101227</td>\n",
       "    </tr>\n",
       "    <tr>\n",
       "      <td>min</td>\n",
       "      <td>13.000000</td>\n",
       "      <td>0.000000</td>\n",
       "      <td>0.000000</td>\n",
       "    </tr>\n",
       "    <tr>\n",
       "      <td>25%</td>\n",
       "      <td>109.000000</td>\n",
       "      <td>0.000000</td>\n",
       "      <td>0.000000</td>\n",
       "    </tr>\n",
       "    <tr>\n",
       "      <td>50%</td>\n",
       "      <td>122.000000</td>\n",
       "      <td>0.000000</td>\n",
       "      <td>0.000000</td>\n",
       "    </tr>\n",
       "    <tr>\n",
       "      <td>75%</td>\n",
       "      <td>137.750000</td>\n",
       "      <td>0.000000</td>\n",
       "      <td>0.000000</td>\n",
       "    </tr>\n",
       "    <tr>\n",
       "      <td>max</td>\n",
       "      <td>250.000000</td>\n",
       "      <td>1.000000</td>\n",
       "      <td>250.000000</td>\n",
       "    </tr>\n",
       "  </tbody>\n",
       "</table>\n",
       "</div>"
      ],
      "text/plain": [
       "       orderValue  ordered_bin  amount_spent\n",
       "count  270.000000  4924.000000   4924.000000\n",
       "mean   120.329630     0.054833      6.598091\n",
       "std     26.755513     0.227678     28.101227\n",
       "min     13.000000     0.000000      0.000000\n",
       "25%    109.000000     0.000000      0.000000\n",
       "50%    122.000000     0.000000      0.000000\n",
       "75%    137.750000     0.000000      0.000000\n",
       "max    250.000000     1.000000    250.000000"
      ]
     },
     "execution_count": 300,
     "metadata": {},
     "output_type": "execute_result"
    }
   ],
   "source": [
    "df_99[['orderValue','ordered_bin','amount_spent']].describe()"
   ]
  },
  {
   "cell_type": "markdown",
   "metadata": {},
   "source": [
    "For dataset 1, out of the 4924 users, only 270 have placed orders. The mean order value is \\$120.33, with a standard deviation of 26.76. The min and max order values are \\$13 and \\$250 respectively. Further, only 5.48% of users have placed orders. "
   ]
  },
  {
   "cell_type": "code",
   "execution_count": 301,
   "metadata": {},
   "outputs": [
    {
     "data": {
      "text/html": [
       "<div>\n",
       "<style scoped>\n",
       "    .dataframe tbody tr th:only-of-type {\n",
       "        vertical-align: middle;\n",
       "    }\n",
       "\n",
       "    .dataframe tbody tr th {\n",
       "        vertical-align: top;\n",
       "    }\n",
       "\n",
       "    .dataframe thead th {\n",
       "        text-align: right;\n",
       "    }\n",
       "</style>\n",
       "<table border=\"1\" class=\"dataframe\">\n",
       "  <thead>\n",
       "    <tr style=\"text-align: right;\">\n",
       "      <th></th>\n",
       "      <th>orderValue</th>\n",
       "      <th>ordered_bin</th>\n",
       "      <th>amount_spent</th>\n",
       "    </tr>\n",
       "  </thead>\n",
       "  <tbody>\n",
       "    <tr>\n",
       "      <td>count</td>\n",
       "      <td>554.000000</td>\n",
       "      <td>5018.000000</td>\n",
       "      <td>5018.000000</td>\n",
       "    </tr>\n",
       "    <tr>\n",
       "      <td>mean</td>\n",
       "      <td>84.980144</td>\n",
       "      <td>0.110403</td>\n",
       "      <td>9.382025</td>\n",
       "    </tr>\n",
       "    <tr>\n",
       "      <td>std</td>\n",
       "      <td>38.002921</td>\n",
       "      <td>0.313422</td>\n",
       "      <td>29.471927</td>\n",
       "    </tr>\n",
       "    <tr>\n",
       "      <td>min</td>\n",
       "      <td>10.000000</td>\n",
       "      <td>0.000000</td>\n",
       "      <td>0.000000</td>\n",
       "    </tr>\n",
       "    <tr>\n",
       "      <td>25%</td>\n",
       "      <td>56.000000</td>\n",
       "      <td>0.000000</td>\n",
       "      <td>0.000000</td>\n",
       "    </tr>\n",
       "    <tr>\n",
       "      <td>50%</td>\n",
       "      <td>85.000000</td>\n",
       "      <td>0.000000</td>\n",
       "      <td>0.000000</td>\n",
       "    </tr>\n",
       "    <tr>\n",
       "      <td>75%</td>\n",
       "      <td>116.750000</td>\n",
       "      <td>0.000000</td>\n",
       "      <td>0.000000</td>\n",
       "    </tr>\n",
       "    <tr>\n",
       "      <td>max</td>\n",
       "      <td>150.000000</td>\n",
       "      <td>1.000000</td>\n",
       "      <td>150.000000</td>\n",
       "    </tr>\n",
       "  </tbody>\n",
       "</table>\n",
       "</div>"
      ],
      "text/plain": [
       "       orderValue  ordered_bin  amount_spent\n",
       "count  554.000000  5018.000000   5018.000000\n",
       "mean    84.980144     0.110403      9.382025\n",
       "std     38.002921     0.313422     29.471927\n",
       "min     10.000000     0.000000      0.000000\n",
       "25%     56.000000     0.000000      0.000000\n",
       "50%     85.000000     0.000000      0.000000\n",
       "75%    116.750000     0.000000      0.000000\n",
       "max    150.000000     1.000000    150.000000"
      ]
     },
     "execution_count": 301,
     "metadata": {},
     "output_type": "execute_result"
    }
   ],
   "source": [
    "df_free[['orderValue','ordered_bin','amount_spent']].describe()"
   ]
  },
  {
   "cell_type": "markdown",
   "metadata": {},
   "source": [
    "For dataset 2, out of the 5018 users, 554 have placed orders. The mean order value is \\$84.98, with a standard deviation of 38.00. The min and max order values are \\$10 and \\$150 respectively.  Further, 11.04% of users have placed orders. "
   ]
  },
  {
   "cell_type": "code",
   "execution_count": null,
   "metadata": {},
   "outputs": [],
   "source": []
  },
  {
   "cell_type": "markdown",
   "metadata": {},
   "source": [
    "#### 2.2. Now taking a look at the distribution of the data. "
   ]
  },
  {
   "cell_type": "markdown",
   "metadata": {},
   "source": [
    "#### 2.2.1. Looking for outliers using Box Plot"
   ]
  },
  {
   "cell_type": "code",
   "execution_count": 302,
   "metadata": {},
   "outputs": [
    {
     "data": {
      "image/png": "[encoded data removed]",
      "text/plain": [
       "<Figure size 432x288 with 1 Axes>"
      ]
     },
     "metadata": {},
     "output_type": "display_data"
    }
   ],
   "source": [
    "sns.boxplot(\n",
    "    y=df_99.orderValue,\n",
    "    linewidth=1, \n",
    "    width=0.66,\n",
    "    whis=1.5,\n",
    "    fliersize = 3\n",
    ").set_title(\"Box Plot for Dataset1\")\n",
    "\n",
    "plt.show()"
   ]
  },
  {
   "cell_type": "markdown",
   "metadata": {},
   "source": [
    "Most data points in dataset 1 seems to be quite close to the mean. This is further confirmation of observing a lower standard deviation for this dataset in the above section 2.1. There are a few outliers, mostly towards the lower end of the plot whiskers. We're going to leave these outliers in there as they dont seem to be error points. "
   ]
  },
  {
   "cell_type": "code",
   "execution_count": null,
   "metadata": {},
   "outputs": [],
   "source": []
  },
  {
   "cell_type": "code",
   "execution_count": 303,
   "metadata": {},
   "outputs": [
    {
     "data": {
      "image/png": "[encoded data removed]",
      "text/plain": [
       "<Figure size 432x288 with 1 Axes>"
      ]
     },
     "metadata": {},
     "output_type": "display_data"
    }
   ],
   "source": [
    "sns.boxplot(\n",
    "    y=df_free.orderValue,\n",
    "    linewidth=1, \n",
    "    width=0.66,\n",
    "    whis=1.5,\n",
    "    fliersize = 3\n",
    ").set_title(\"Box Plot for Dataset 2\")\n",
    "\n",
    "plt.show()"
   ]
  },
  {
   "cell_type": "markdown",
   "metadata": {},
   "source": [
    "The interquartile range for dataset 2 is much higher, as can be seen from the width of the box plot. This is intuitive as this dataset has a much higher standard deviation. There seem to be NO outlier points for this dataset. Again, that maybe due to the interquartile range being so high that all data points fall within the whiskers (set at 1.5 * IQR)."
   ]
  },
  {
   "cell_type": "code",
   "execution_count": null,
   "metadata": {},
   "outputs": [],
   "source": []
  },
  {
   "cell_type": "code",
   "execution_count": null,
   "metadata": {},
   "outputs": [],
   "source": []
  },
  {
   "cell_type": "markdown",
   "metadata": {},
   "source": [
    "#### 2.2.2. Plotting Histogram"
   ]
  },
  {
   "cell_type": "code",
   "execution_count": 304,
   "metadata": {},
   "outputs": [
    {
     "data": {
      "image/png": "[encoded data removed]",
      "text/plain": [
       "<Figure size 432x288 with 1 Axes>"
      ]
     },
     "metadata": {},
     "output_type": "display_data"
    }
   ],
   "source": [
    "sns.distplot(\n",
    "    df_99_orders.orderValue, \n",
    "    bins=20).set_title(\"Distribution for Dataset 1\")\n",
    "\n",
    "plt.show()"
   ]
  },
  {
   "cell_type": "code",
   "execution_count": 305,
   "metadata": {},
   "outputs": [
    {
     "data": {
      "image/png": "[encoded data removed]",
      "text/plain": [
       "<Figure size 432x288 with 1 Axes>"
      ]
     },
     "metadata": {},
     "output_type": "display_data"
    }
   ],
   "source": [
    "sns.distplot(\n",
    "    df_free_orders.orderValue, \n",
    "    bins=20\n",
    ").set_title(\"Distribution for Dataset 2\")\n",
    "\n",
    "plt.show()"
   ]
  },
  {
   "cell_type": "markdown",
   "metadata": {},
   "source": [
    "Both distributions seem to have 1 peak, and even though they look like they follow normal distribution, we cannot assume that they do. Again, we have further proof that dataset 1 order values are more tightly bound around the mean but have a few datapoints on the lower end of the spectrum. For dataset 2, the order values are more widely spread around the mean, and there dont seem to be any outliers. "
   ]
  },
  {
   "cell_type": "code",
   "execution_count": null,
   "metadata": {},
   "outputs": [],
   "source": []
  },
  {
   "cell_type": "markdown",
   "metadata": {},
   "source": [
    "### 3. Statistical Tests"
   ]
  },
  {
   "cell_type": "markdown",
   "metadata": {},
   "source": [
    "#### 3.1. Normality Assumption: \n",
    "Both our data sets seem to be somewhat normal, but we need to verify using whether that indeed is the case. Determination of normality is crucial as it will assist us in determining whether we should use parametric or non-parametric tests. \n",
    "\n"
   ]
  },
  {
   "cell_type": "markdown",
   "metadata": {},
   "source": [
    "We run the Shapiro-Wilk Test to establish normality. \n",
    "- H0 = The sample was drawn from a normal distribution\n",
    "- H1 = The sample was NOT drawn from a normal distribution \n",
    "- alpha = 5% "
   ]
  },
  {
   "cell_type": "code",
   "execution_count": 306,
   "metadata": {},
   "outputs": [
    {
     "name": "stdout",
     "output_type": "stream",
     "text": [
      "Statistics=0.8553, p=0.0000\n"
     ]
    }
   ],
   "source": [
    "stat, p = shapiro(df_99_orders.orderValue)\n",
    "print('Statistics=%.4f, p=%.4f' % (stat, p))"
   ]
  },
  {
   "cell_type": "code",
   "execution_count": null,
   "metadata": {},
   "outputs": [],
   "source": []
  },
  {
   "cell_type": "code",
   "execution_count": 307,
   "metadata": {},
   "outputs": [
    {
     "name": "stdout",
     "output_type": "stream",
     "text": [
      "Statistics=0.9680, p=0.0000\n"
     ]
    }
   ],
   "source": [
    "stat, p = shapiro(df_free_orders.orderValue)\n",
    "print('Statistics=%.4f, p=%.4f' % (stat, p))"
   ]
  },
  {
   "cell_type": "markdown",
   "metadata": {},
   "source": [
    "Therefore, for both datasets, as the the p-value of 0 is less than alpha, we reject the null hypothesis and accept the alternate that the datasets are not drawn from a normal distribution. "
   ]
  },
  {
   "cell_type": "code",
   "execution_count": null,
   "metadata": {},
   "outputs": [],
   "source": []
  },
  {
   "cell_type": "code",
   "execution_count": null,
   "metadata": {},
   "outputs": [],
   "source": []
  },
  {
   "cell_type": "markdown",
   "metadata": {},
   "source": [
    "#### 3.2. Calculating Mean Order Value\n",
    "\n",
    "First, we will look at all the customers who have placed an order, and look to calculate the difference in the mean order values in the two datasets"
   ]
  },
  {
   "cell_type": "markdown",
   "metadata": {},
   "source": [
    "In order to compare the order values, we will conduct a two-sample t-test.\n",
    "\n",
    "We accept that the two-sample t-test relies on an assumption of normality, but we're choosing this test anyway for the following reasons: \n",
    "1. Two-sample t-test generally does well with data that are not far from normality. Looking at our histogram from section 2.2.2. we can conclude that the data does look normal-ish. \n",
    "2. Specifically, this test assumes that the sampling distribution of the mean differences (not the distribution of the raw scores) is approximately normally distributed. For large samples (above 30) the normality assumption isn’t an issue because the sampling distribution of the mean is normally distributed according to the Central Limit Theorem.\n",
    "3. Parametric tests can perform well when the spread of each group is different. "
   ]
  },
  {
   "cell_type": "markdown",
   "metadata": {},
   "source": [
    "#### 3.2.1. Levene's test for equality of variance\n",
    "In order to apply the correct form of t-test we first need to identify whethere the variances of the two samples are equal or not. We conduct a Levene's test for that. Levene's test is more robust to non-normality than Bartlett's test. \n",
    "\n",
    "- H0: Variances of the two samples are equal\n",
    "- HA: Variances of the two samples are NOT equal\n",
    "- Alpha: 0.05"
   ]
  },
  {
   "cell_type": "code",
   "execution_count": 308,
   "metadata": {},
   "outputs": [
    {
     "name": "stdout",
     "output_type": "stream",
     "text": [
      "Statistics=85.9465, p=0.0000\n"
     ]
    }
   ],
   "source": [
    "stat, p = levene(df_99_orders.orderValue, df_free_orders.orderValue, center='mean')\n",
    "print('Statistics=%.4f, p=%.4f' % (stat, p))"
   ]
  },
  {
   "cell_type": "markdown",
   "metadata": {},
   "source": [
    "Thus, we reject the null hypothesis and accept the alternate that the variances of the two datasets are NOT equal. \n",
    "\n",
    "Now, running the two-sample t-test"
   ]
  },
  {
   "cell_type": "markdown",
   "metadata": {},
   "source": [
    "#### 3.2.2. Two-Sample t-test"
   ]
  },
  {
   "cell_type": "code",
   "execution_count": 309,
   "metadata": {},
   "outputs": [
    {
     "name": "stdout",
     "output_type": "stream",
     "text": [
      "Statistics=15.4157, p=0.0000\n"
     ]
    }
   ],
   "source": [
    "stat, p = ttest_ind(df_99_orders.orderValue, df_free_orders.orderValue, equal_var=False)\n",
    "print('Statistics=%.4f, p=%.4f' % (stat, p))"
   ]
  },
  {
   "cell_type": "code",
   "execution_count": 310,
   "metadata": {},
   "outputs": [
    {
     "name": "stdout",
     "output_type": "stream",
     "text": [
      "For dataset 1, mean of order value is 120.33 with a 95% confidence level range of +/- 3.206\n",
      "For dataset 2, mean of order value is 84.98 with a 95% confidence level range of +/- 3.171\n"
     ]
    }
   ],
   "source": [
    "def mean_conf_int(data, confidence=0.95):\n",
    "    n = len(data)\n",
    "    m = np.mean(data)\n",
    "    std_err = stats.sem(data)\n",
    "    moe = std_err * stats.t.ppf((1 + confidence) / 2, n - 1)\n",
    "    return m,moe\n",
    "\n",
    "m,moe = mean_conf_int(df_99_orders.orderValue)\n",
    "print('For dataset 1, mean of order value is {} with a 95% confidence level range of +/- {}'.format(round(m,3),round(moe,3)))\n",
    "\n",
    "m,moe = mean_conf_int(df_free_orders.orderValue)\n",
    "print('For dataset 2, mean of order value is {} with a 95% confidence level range of +/- {}'.format(round(m,3),round(moe,3)))"
   ]
  },
  {
   "cell_type": "markdown",
   "metadata": {},
   "source": [
    "Thus, with a p-value of 0 which is lower than alpha of 0.05, the t-test has confirmed that there is a statistically significant difference in the order values of the two datasets. This has further been corroborated with both dataset means being outside of each others confidence intervals. \n",
    "\n",
    "Takeaway: Mean order value increase is associated with having a threshold on the shipping costs. "
   ]
  },
  {
   "cell_type": "code",
   "execution_count": null,
   "metadata": {},
   "outputs": [],
   "source": []
  },
  {
   "cell_type": "code",
   "execution_count": null,
   "metadata": {},
   "outputs": [],
   "source": []
  },
  {
   "cell_type": "markdown",
   "metadata": {},
   "source": [
    "#### 3.3. Calculating Customer Conversion Rate\n",
    "\n",
    "In this test, we will look at simply whether a customer bought or not. Because the output variable is binary in nature, and since we have large dataset, we will conduct the Chi Square test of independence. This test does not assume any underlying distribution of the data, and thus, is robust to the non-normal nature of our datasets. "
   ]
  },
  {
   "cell_type": "markdown",
   "metadata": {},
   "source": [
    "#### 3.3.1. Chi Square Test of Independence\n",
    "\n",
    "- H0: Customer conversion rate is independent of shipping cost\n",
    "- HA: Customer conversion rate is dependent on shipping cost\n",
    "- Alpha: 0.05"
   ]
  },
  {
   "cell_type": "markdown",
   "metadata": {},
   "source": [
    "Generating the contingency table: "
   ]
  },
  {
   "cell_type": "code",
   "execution_count": 314,
   "metadata": {},
   "outputs": [
    {
     "data": {
      "text/html": [
       "<div>\n",
       "<style scoped>\n",
       "    .dataframe tbody tr th:only-of-type {\n",
       "        vertical-align: middle;\n",
       "    }\n",
       "\n",
       "    .dataframe tbody tr th {\n",
       "        vertical-align: top;\n",
       "    }\n",
       "\n",
       "    .dataframe thead th {\n",
       "        text-align: right;\n",
       "    }\n",
       "</style>\n",
       "<table border=\"1\" class=\"dataframe\">\n",
       "  <thead>\n",
       "    <tr style=\"text-align: right;\">\n",
       "      <th></th>\n",
       "      <th>dataset</th>\n",
       "      <th>not_buy</th>\n",
       "      <th>buy</th>\n",
       "    </tr>\n",
       "  </thead>\n",
       "  <tbody>\n",
       "    <tr>\n",
       "      <td>0</td>\n",
       "      <td>df_99</td>\n",
       "      <td>4654</td>\n",
       "      <td>270</td>\n",
       "    </tr>\n",
       "    <tr>\n",
       "      <td>1</td>\n",
       "      <td>df_free</td>\n",
       "      <td>4464</td>\n",
       "      <td>554</td>\n",
       "    </tr>\n",
       "  </tbody>\n",
       "</table>\n",
       "</div>"
      ],
      "text/plain": [
       "   dataset  not_buy  buy\n",
       "0    df_99     4654  270\n",
       "1  df_free     4464  554"
      ]
     },
     "execution_count": 314,
     "metadata": {},
     "output_type": "execute_result"
    }
   ],
   "source": [
    "df_99_ordered_bin = pd.crosstab('df_99',df_99['ordered_bin']) \n",
    "df_free_ordered_bin = pd.crosstab('df_free',df_free['ordered_bin']) \n",
    "\n",
    "df_contingency = pd.concat([df_99_ordered_bin, df_free_ordered_bin]).reset_index()\n",
    "df_contingency.columns = ['dataset','not_buy','buy']\n",
    "df_contingency"
   ]
  },
  {
   "cell_type": "code",
   "execution_count": null,
   "metadata": {},
   "outputs": [],
   "source": []
  },
  {
   "cell_type": "markdown",
   "metadata": {},
   "source": [
    "Running the Chi Square test"
   ]
  },
  {
   "cell_type": "code",
   "execution_count": 315,
   "metadata": {},
   "outputs": [
    {
     "name": "stdout",
     "output_type": "stream",
     "text": [
      "Statistics=100.2332, p=0.0000\n"
     ]
    }
   ],
   "source": [
    "stat, p, dof, expected = chi2_contingency(df_contingency[['not_buy','buy']])\n",
    "print('Statistics=%.4f, p=%.4f' % (stat, p))"
   ]
  },
  {
   "cell_type": "markdown",
   "metadata": {},
   "source": [
    "Getting confidence intervals around the conversion rate. "
   ]
  },
  {
   "cell_type": "code",
   "execution_count": 316,
   "metadata": {},
   "outputs": [
    {
     "name": "stdout",
     "output_type": "stream",
     "text": [
      "For dataset 1, the customer conversion rate is 0.0548 with a 95% confidence level range of +/- 0.0064\n",
      "For dataset 2, the customer conversion rate is 0.1104 with a 95% confidence level range of +/- 0.0087\n"
     ]
    }
   ],
   "source": [
    "def binary_conf_interval(data):\n",
    "    n = (data['buy'] + data['not_buy']).values[0]\n",
    "    p = (data['buy']/n).values[0]\n",
    "    moe = 1.96 * (p * (1-p)/n)**0.5\n",
    "    return p, moe\n",
    "\n",
    "p, moe = binary_conf_interval(df_contingency[df_contingency['dataset']=='df_99'])\n",
    "print('For dataset 1, the customer conversion rate is {} with a 95% confidence level range of +/- {}'.format(round(p,4),round(moe,4)))\n",
    "\n",
    "p, moe = binary_conf_interval(df_contingency[df_contingency['dataset']=='df_free'])\n",
    "print('For dataset 2, the customer conversion rate is {} with a 95% confidence level range of +/- {}'.format(round(p,4),round(moe,4)))\n"
   ]
  },
  {
   "cell_type": "markdown",
   "metadata": {},
   "source": [
    "Thus, with a p-value of 0 which is less than alpha = 0.05, we reject the null hypothesis and accept the alternate hypothesis that the customer conversion rate is dependent on shipping costs. This has further been verified by the conversion rates of the two datasets being outside of each others confidence intervals. "
   ]
  },
  {
   "cell_type": "code",
   "execution_count": null,
   "metadata": {},
   "outputs": [],
   "source": []
  },
  {
   "cell_type": "code",
   "execution_count": null,
   "metadata": {},
   "outputs": [],
   "source": []
  },
  {
   "cell_type": "markdown",
   "metadata": {},
   "source": [
    "#### 3.4. Calculating revenue per customer\n",
    "\n",
    "In this metric, we look at the ratio of total revenue by the total number of customers who visited our page. Here, for users who did not order anything, the revenue will be 0. For users who ordered on our page, the revenue collected will be equal to their order value. \n",
    "\n",
    "Now since the number of customers who did not order are much higher than the ones who did, revenue for most customers is 0. This leads to a non-normal distribution. Thus, we will be looking to conduct the Mann-Whitney test which is non parametric in nature. \n",
    "\n",
    "- H0: The revenue per customer is same for the two datasets. \n",
    "- HA: The revenue per customer is different for the two datasets. \n",
    "- Alpha: 0.05"
   ]
  },
  {
   "cell_type": "code",
   "execution_count": 317,
   "metadata": {},
   "outputs": [
    {
     "name": "stdout",
     "output_type": "stream",
     "text": [
      "Statistics=11708220.0000, p=0.0000\n"
     ]
    }
   ],
   "source": [
    "stat, p = mannwhitneyu(x = df_99.amount_spent, y = df_free.amount_spent)\n",
    "print('Statistics=%.4f, p=%.4f' % (stat, p))"
   ]
  },
  {
   "cell_type": "markdown",
   "metadata": {},
   "source": [
    "With a p-value of 0 which is less than alpha of 0.05, we reject the null hypothesis and accept the alternate that the revenue per customer is different for the two datasets. \n",
    "\n",
    "Calculating the revenue/customer: "
   ]
  },
  {
   "cell_type": "code",
   "execution_count": 319,
   "metadata": {},
   "outputs": [
    {
     "name": "stdout",
     "output_type": "stream",
     "text": [
      "Revenue/customer for dataset 1 : $6.598\n",
      "Revenue/customer for dataset 2 : $9.382\n"
     ]
    }
   ],
   "source": [
    "rev_per_cust_99 = df_99.amount_spent.sum()/df_99.amount_spent.count()\n",
    "print(\"Revenue/customer for dataset 1 : ${}\".format(round(rev_per_cust_99, 3)))\n",
    "\n",
    "rev_per_cust_free = df_free.amount_spent.sum()/df_free.amount_spent.count()\n",
    "print(\"Revenue/customer for dataset 2 : ${}\".format(round(rev_per_cust_free, 3)))\n"
   ]
  },
  {
   "cell_type": "markdown",
   "metadata": {},
   "source": [
    "Thus it can be seen that there is a much higher revenue per customer for dataset 2 where the shipping is free. This difference, as established earlier, is statistically significant. "
   ]
  },
  {
   "cell_type": "code",
   "execution_count": null,
   "metadata": {},
   "outputs": [],
   "source": []
  },
  {
   "cell_type": "code",
   "execution_count": null,
   "metadata": {},
   "outputs": [],
   "source": []
  },
  {
   "cell_type": "markdown",
   "metadata": {},
   "source": [
    "### 4. Final Takeaways"
   ]
  },
  {
   "cell_type": "markdown",
   "metadata": {},
   "source": [
    "We looked at 3 metrics overall and found statistically significant difference for all 3. Following are the results: \n",
    "1. Mean Order Value: Two-sample t-test confirmed statistical significant difference in mean order value of dataset 1 (\\$120.33) vs that of dataset 2 (\\$84.98). Thus, a higher threshold for free shipping is associated with users having higher order values. \n",
    "2. Customer Conversion Rate: Chi Square Test of Independence confirmed statistically significant difference in customer conversion rates of dataset 1 (5.48%) vs dataset 2 (11.04%). Thus, having no threshold for shipping costs is associated with more number of users placing orders. \n",
    "3. Revenue per Customer: Mann-Whitney test confirmed statistically significant difference in revenue per customer of dataset 1 (\\$6.598) vs dataset 2 ($9.382). Thus, no threshold for shipping costs is associated with higher revenue per customer. \n",
    "\n",
    "In order to further determine whether having \\$99 threshold for free shipping is better than having no threshold, we need to determine what is most important for the management. If management is purely looking to optimize for revenue, then having no threshold for shipping is more advantageous. However, if the management wants to optimize for profit, then we need to determine what is the cost of shipped goods, and subtract that from the order value. If the cost of shipped goods is really high, then having a \\$99 threshold will provide higher profitability. "
   ]
  },
  {
   "cell_type": "code",
   "execution_count": null,
   "metadata": {},
   "outputs": [],
   "source": []
  }
 ],
 "metadata": {
  "kernelspec": {
   "display_name": "Python 3",
   "language": "python",
   "name": "python3"
  },
  "language_info": {
   "codemirror_mode": {
    "name": "ipython",
    "version": 3
   },
   "file_extension": ".py",
   "mimetype": "text/x-python",
   "name": "python",
   "nbconvert_exporter": "python",
   "pygments_lexer": "ipython3",
   "version": "3.6.5"
  }
 },
 "nbformat": 4,
 "nbformat_minor": 2
}
